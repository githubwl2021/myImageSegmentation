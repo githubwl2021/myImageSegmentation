{
  "nbformat": 4,
  "nbformat_minor": 0,
  "metadata": {
    "colab": {
      "name": "Untitled0.ipynb",
      "provenance": [],
      "authorship_tag": "ABX9TyMDqhnW7nIVWz0EOBVBdCEp"
    },
    "kernelspec": {
      "name": "python3",
      "display_name": "Python 3"
    },
    "language_info": {
      "name": "python"
    }
  },
  "cells": [
    {
      "cell_type": "code",
      "execution_count": 2,
      "metadata": {
        "colab": {
          "base_uri": "https://localhost:8080/"
        },
        "id": "zybdDR18HciT",
        "outputId": "f64840f0-9f9c-4a2f-ccef-6f2193bfa171"
      },
      "outputs": [
        {
          "output_type": "stream",
          "name": "stdout",
          "text": [
            "Mounted at /content/drive\n"
          ]
        }
      ],
      "source": [
        "from google.colab import drive\n",
        "\n",
        "drive.mount( '/content/drive', force_remount=True )"
      ]
    },
    {
      "cell_type": "code",
      "source": [
        "! git clone https://github.com/tkipf/gcn"
      ],
      "metadata": {
        "colab": {
          "base_uri": "https://localhost:8080/"
        },
        "id": "LPgi_curIULS",
        "outputId": "03e94c7b-f9a2-457b-9bfe-d714bef56eba"
      },
      "execution_count": 3,
      "outputs": [
        {
          "output_type": "stream",
          "name": "stdout",
          "text": [
            "Cloning into 'gcn'...\n",
            "remote: Enumerating objects: 173, done.\u001b[K\n",
            "remote: Counting objects: 100% (3/3), done.\u001b[K\n",
            "remote: Compressing objects: 100% (3/3), done.\u001b[K\n",
            "remote: Total 173 (delta 0), reused 0 (delta 0), pack-reused 170\u001b[K\n",
            "Receiving objects: 100% (173/173), 5.09 MiB | 16.92 MiB/s, done.\n",
            "Resolving deltas: 100% (85/85), done.\n"
          ]
        }
      ]
    },
    {
      "cell_type": "code",
      "source": [
        "! ls 'gcn/'"
      ],
      "metadata": {
        "colab": {
          "base_uri": "https://localhost:8080/"
        },
        "id": "KbemEZeMJOkY",
        "outputId": "47ec9a36-0666-4143-da52-bb4d133296bb"
      },
      "execution_count": 8,
      "outputs": [
        {
          "output_type": "stream",
          "name": "stdout",
          "text": [
            "gcn  LICENCE  README.md  requirements.txt  setup.py\n"
          ]
        }
      ]
    },
    {
      "cell_type": "code",
      "source": [
        "%cd 'gcn'\n",
        "! python setup.py install"
      ],
      "metadata": {
        "colab": {
          "base_uri": "https://localhost:8080/"
        },
        "id": "KTi0I2LeKFhb",
        "outputId": "a7e43e3b-854a-490d-aff5-143e1f140cf3"
      },
      "execution_count": 16,
      "outputs": [
        {
          "output_type": "stream",
          "name": "stdout",
          "text": [
            "/content/gcn\n",
            "running install\n",
            "running bdist_egg\n",
            "running egg_info\n",
            "creating gcn.egg-info\n",
            "writing gcn.egg-info/PKG-INFO\n",
            "writing dependency_links to gcn.egg-info/dependency_links.txt\n",
            "writing requirements to gcn.egg-info/requires.txt\n",
            "writing top-level names to gcn.egg-info/top_level.txt\n",
            "writing manifest file 'gcn.egg-info/SOURCES.txt'\n",
            "adding license file 'LICENCE'\n",
            "writing manifest file 'gcn.egg-info/SOURCES.txt'\n",
            "installing library code to build/bdist.linux-x86_64/egg\n",
            "running install_lib\n",
            "running build_py\n",
            "creating build\n",
            "creating build/lib\n",
            "creating build/lib/gcn\n",
            "copying gcn/metrics.py -> build/lib/gcn\n",
            "copying gcn/inits.py -> build/lib/gcn\n",
            "copying gcn/utils.py -> build/lib/gcn\n",
            "copying gcn/models.py -> build/lib/gcn\n",
            "copying gcn/__init__.py -> build/lib/gcn\n",
            "copying gcn/train.py -> build/lib/gcn\n",
            "copying gcn/layers.py -> build/lib/gcn\n",
            "creating build/bdist.linux-x86_64\n",
            "creating build/bdist.linux-x86_64/egg\n",
            "creating build/bdist.linux-x86_64/egg/gcn\n",
            "copying build/lib/gcn/metrics.py -> build/bdist.linux-x86_64/egg/gcn\n",
            "copying build/lib/gcn/inits.py -> build/bdist.linux-x86_64/egg/gcn\n",
            "copying build/lib/gcn/utils.py -> build/bdist.linux-x86_64/egg/gcn\n",
            "copying build/lib/gcn/models.py -> build/bdist.linux-x86_64/egg/gcn\n",
            "copying build/lib/gcn/__init__.py -> build/bdist.linux-x86_64/egg/gcn\n",
            "copying build/lib/gcn/train.py -> build/bdist.linux-x86_64/egg/gcn\n",
            "copying build/lib/gcn/layers.py -> build/bdist.linux-x86_64/egg/gcn\n",
            "byte-compiling build/bdist.linux-x86_64/egg/gcn/metrics.py to metrics.cpython-37.pyc\n",
            "byte-compiling build/bdist.linux-x86_64/egg/gcn/inits.py to inits.cpython-37.pyc\n",
            "byte-compiling build/bdist.linux-x86_64/egg/gcn/utils.py to utils.cpython-37.pyc\n",
            "byte-compiling build/bdist.linux-x86_64/egg/gcn/models.py to models.cpython-37.pyc\n",
            "byte-compiling build/bdist.linux-x86_64/egg/gcn/__init__.py to __init__.cpython-37.pyc\n",
            "byte-compiling build/bdist.linux-x86_64/egg/gcn/train.py to train.cpython-37.pyc\n",
            "byte-compiling build/bdist.linux-x86_64/egg/gcn/layers.py to layers.cpython-37.pyc\n",
            "creating build/bdist.linux-x86_64/egg/EGG-INFO\n",
            "copying gcn.egg-info/PKG-INFO -> build/bdist.linux-x86_64/egg/EGG-INFO\n",
            "copying gcn.egg-info/SOURCES.txt -> build/bdist.linux-x86_64/egg/EGG-INFO\n",
            "copying gcn.egg-info/dependency_links.txt -> build/bdist.linux-x86_64/egg/EGG-INFO\n",
            "copying gcn.egg-info/requires.txt -> build/bdist.linux-x86_64/egg/EGG-INFO\n",
            "copying gcn.egg-info/top_level.txt -> build/bdist.linux-x86_64/egg/EGG-INFO\n",
            "zip_safe flag not set; analyzing archive contents...\n",
            "creating dist\n",
            "creating 'dist/gcn-1.0-py3.7.egg' and adding 'build/bdist.linux-x86_64/egg' to it\n",
            "removing 'build/bdist.linux-x86_64/egg' (and everything under it)\n",
            "Processing gcn-1.0-py3.7.egg\n",
            "Copying gcn-1.0-py3.7.egg to /usr/local/lib/python3.7/dist-packages\n",
            "Adding gcn 1.0 to easy-install.pth file\n",
            "\n",
            "Installed /usr/local/lib/python3.7/dist-packages/gcn-1.0-py3.7.egg\n",
            "Processing dependencies for gcn==1.0\n",
            "Searching for tensorflow<2.0,>=1.15.2\n",
            "Reading https://pypi.org/simple/tensorflow/\n",
            "Downloading https://files.pythonhosted.org/packages/9a/51/99abd43185d94adaaaddf8f44a80c418a91977924a7bc39b8dacd0c495b0/tensorflow-1.15.5-cp37-cp37m-manylinux2010_x86_64.whl#sha256=29831dda98d668067de75403b2fca0d06a2f026ef6f217fa2ca873c20b4ee4d3\n",
            "Best match: tensorflow 1.15.5\n",
            "Processing tensorflow-1.15.5-cp37-cp37m-manylinux2010_x86_64.whl\n",
            "Installing tensorflow-1.15.5-cp37-cp37m-manylinux2010_x86_64.whl to /usr/local/lib/python3.7/dist-packages\n",
            "Adding tensorflow 1.15.5 to easy-install.pth file\n",
            "Installing estimator_ckpt_converter script to /usr/local/bin\n",
            "Installing freeze_graph script to /usr/local/bin\n",
            "Installing saved_model_cli script to /usr/local/bin\n",
            "Installing tensorboard script to /usr/local/bin\n",
            "Installing tf_upgrade_v2 script to /usr/local/bin\n",
            "Installing tflite_convert script to /usr/local/bin\n",
            "Installing toco script to /usr/local/bin\n",
            "Installing toco_from_protos script to /usr/local/bin\n",
            "\n",
            "Installed /usr/local/lib/python3.7/dist-packages/tensorflow-1.15.5-py3.7-linux-x86_64.egg\n",
            "Searching for tensorflow-estimator==1.15.1\n",
            "Reading https://pypi.org/simple/tensorflow-estimator/\n",
            "Downloading https://files.pythonhosted.org/packages/de/62/2ee9cd74c9fa2fa450877847ba560b260f5d0fb70ee0595203082dafcc9d/tensorflow_estimator-1.15.1-py2.py3-none-any.whl#sha256=8853bfb7c3c96fbdc80b3d66c37a10af6ccbcd235dc87474764270c02a0f86b9\n",
            "Best match: tensorflow-estimator 1.15.1\n",
            "Processing tensorflow_estimator-1.15.1-py2.py3-none-any.whl\n",
            "Installing tensorflow_estimator-1.15.1-py2.py3-none-any.whl to /usr/local/lib/python3.7/dist-packages\n",
            "Adding tensorflow-estimator 1.15.1 to easy-install.pth file\n",
            "\n",
            "Installed /usr/local/lib/python3.7/dist-packages/tensorflow_estimator-1.15.1-py3.7.egg\n",
            "Searching for tensorboard<1.16.0,>=1.15.0\n",
            "Reading https://pypi.org/simple/tensorboard/\n",
            "Downloading https://files.pythonhosted.org/packages/1e/e9/d3d747a97f7188f48aa5eda486907f3b345cd409f0a0850468ba867db246/tensorboard-1.15.0-py3-none-any.whl#sha256=4cad2c65f6011e51609b463014c014fd7c6ddd9c1263af1d4f18dd97ed88c2bc\n",
            "Best match: tensorboard 1.15.0\n",
            "Processing tensorboard-1.15.0-py3-none-any.whl\n",
            "Installing tensorboard-1.15.0-py3-none-any.whl to /usr/local/lib/python3.7/dist-packages\n",
            "Adding tensorboard 1.15.0 to easy-install.pth file\n",
            "Installing tensorboard script to /usr/local/bin\n",
            "\n",
            "Installed /usr/local/lib/python3.7/dist-packages/tensorboard-1.15.0-py3.7.egg\n",
            "error: numpy 1.21.6 is installed but numpy<1.19.0,>=1.16.0 is required by {'tensorflow'}\n"
          ]
        }
      ]
    },
    {
      "cell_type": "code",
      "source": [
        "%cd 'gcn'\n",
        "#!python train.py"
      ],
      "metadata": {
        "colab": {
          "base_uri": "https://localhost:8080/"
        },
        "id": "GO4fehVZNnQy",
        "outputId": "0fa59cef-3fe7-4449-b2b2-c1baf6f587bc"
      },
      "execution_count": 22,
      "outputs": [
        {
          "output_type": "stream",
          "name": "stdout",
          "text": [
            "/content/gcn/gcn\n"
          ]
        }
      ]
    },
    {
      "cell_type": "code",
      "source": [
        "!python train.py"
      ],
      "metadata": {
        "colab": {
          "base_uri": "https://localhost:8080/"
        },
        "id": "A2UQJDqgReTb",
        "outputId": "14a8b7db-4405-489e-e352-63b3acdf3374"
      },
      "execution_count": 27,
      "outputs": [
        {
          "output_type": "stream",
          "name": "stdout",
          "text": [
            "Traceback (most recent call last):\n",
            "  File \"train.py\", line 9, in <module>\n",
            "    from gcn.models import GCN, MLP\n",
            "  File \"<frozen importlib._bootstrap>\", line 983, in _find_and_load\n",
            "  File \"<frozen importlib._bootstrap>\", line 967, in _find_and_load_unlocked\n",
            "  File \"<frozen importlib._bootstrap>\", line 668, in _load_unlocked\n",
            "  File \"<frozen importlib._bootstrap>\", line 638, in _load_backward_compatible\n",
            "  File \"/usr/local/lib/python3.7/dist-packages/gcn-1.0-py3.7.egg/gcn/models.py\", line 1, in <module>\n",
            "    from gcn.layers import *\n",
            "  File \"<frozen importlib._bootstrap>\", line 983, in _find_and_load\n",
            "  File \"<frozen importlib._bootstrap>\", line 967, in _find_and_load_unlocked\n",
            "  File \"<frozen importlib._bootstrap>\", line 668, in _load_unlocked\n",
            "  File \"<frozen importlib._bootstrap>\", line 638, in _load_backward_compatible\n",
            "  File \"/usr/local/lib/python3.7/dist-packages/gcn-1.0-py3.7.egg/gcn/layers.py\", line 4, in <module>\n",
            "    flags = tf.app.flags\n",
            "AttributeError: module 'tensorflow' has no attribute 'app'\n"
          ]
        }
      ]
    },
    {
      "cell_type": "markdown",
      "source": [
        "import tensorflow.compat.v1 as tf\n",
        "\n",
        "tf.compat.v1.flags"
      ],
      "metadata": {
        "id": "UuYlsrxjVle5"
      }
    }
  ]
}